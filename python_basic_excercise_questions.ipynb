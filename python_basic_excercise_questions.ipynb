{
 "cells": [
  {
   "cell_type": "markdown",
   "metadata": {},
   "source": [
    "<h3> 1. Write a function that inputs a number and prints the multiplication table of that number </h3>"
   ]
  },
  {
   "cell_type": "code",
   "execution_count": 9,
   "metadata": {},
   "outputs": [],
   "source": [
    "def get_table():\n",
    "    num=int(input(\"Eneter a num : \"))\n",
    "    for i in range(1,11):\n",
    "        print (i*num)\n",
    "    "
   ]
  },
  {
   "cell_type": "code",
   "execution_count": 10,
   "metadata": {},
   "outputs": [
    {
     "name": "stdout",
     "output_type": "stream",
     "text": [
      "Eneter a num : 9\n",
      "9\n",
      "18\n",
      "27\n",
      "36\n",
      "45\n",
      "54\n",
      "63\n",
      "72\n",
      "81\n",
      "90\n"
     ]
    }
   ],
   "source": [
    "get_table()"
   ]
  },
  {
   "cell_type": "markdown",
   "metadata": {},
   "source": [
    "<h3>2. Write a program to print twin primes less than 1000. If two consecutive odd numbers are\n",
    "both prime then they are known as twin primes </h3>"
   ]
  },
  {
   "cell_type": "code",
   "execution_count": 23,
   "metadata": {},
   "outputs": [
    {
     "name": "stdout",
     "output_type": "stream",
     "text": [
      "Enter a num less than 1000 : 48\n",
      "not prime\n"
     ]
    }
   ],
   "source": []
  },
  {
   "cell_type": "code",
   "execution_count": 41,
   "metadata": {},
   "outputs": [],
   "source": [
    "def is_prime(num):\n",
    "    for i in range(2,num):\n",
    "        if(num%i)==0:\n",
    "            return False\n",
    "    return True\n",
    "\n",
    "def twin_prime_generator(start,end):\n",
    "    if start>1 and end<1000:\n",
    "        print('yes')\n",
    "        for i in range(start,end):\n",
    "            if(i%2)!=0:\n",
    "                j=i+2\n",
    "                if(is_prime(i) and is_prime(j)):\n",
    "                     print(\"{:d} and {:d}\".format(i, j))\n",
    "            \n",
    "    else:\n",
    "        print(\"wrong input\")\n",
    "        "
   ]
  },
  {
   "cell_type": "code",
   "execution_count": 46,
   "metadata": {},
   "outputs": [
    {
     "name": "stdout",
     "output_type": "stream",
     "text": [
      "yes\n",
      "3 and 5\n",
      "5 and 7\n",
      "11 and 13\n",
      "17 and 19\n",
      "29 and 31\n",
      "41 and 43\n",
      "59 and 61\n",
      "71 and 73\n"
     ]
    }
   ],
   "source": [
    "twin_prime_generator(2,100)"
   ]
  },
  {
   "cell_type": "markdown",
   "metadata": {},
   "source": [
    "<h3>3. Write a program to find out the prime factors of a number. Example: prime factors of 56 -\n",
    "2, 2, 2, 7</h3>"
   ]
  },
  {
   "cell_type": "code",
   "execution_count": 22,
   "metadata": {},
   "outputs": [],
   "source": [
    "import math\n",
    "def prime_fact_cal(num):\n",
    "    lst=[]\n",
    "    # till num is even\n",
    "    while num % 2 == 0:\n",
    "        lst.append(2)\n",
    "        num=num/2\n",
    "    print(num)\n",
    "    #in num is or becomes odd\n",
    "    for i in range(3,int(math.sqrt(num))+1,2):   \n",
    "        # while i divides num, print i and divide n \n",
    "        while num % i== 0: \n",
    "            lst.append(i) \n",
    "            num = num / i \n",
    "    if num>2 :\n",
    "        lst.append(int(num))\n",
    "    return lst"
   ]
  },
  {
   "cell_type": "code",
   "execution_count": 23,
   "metadata": {},
   "outputs": [
    {
     "name": "stdout",
     "output_type": "stream",
     "text": [
      "315\n",
      "[3, 3, 5, 7]\n"
     ]
    }
   ],
   "source": [
    "Prime_factors=prime_fact_cal(num)\n",
    "print(Prime_factors)"
   ]
  },
  {
   "cell_type": "markdown",
   "metadata": {},
   "source": [
    "<h3>4. Write a program to implement these formulae of permutations and combinations.\n",
    "Number of permutations of n objects taken r at a time: p(n, r) = n! / (n-r)!. Number of\n",
    "combinations of n objects taken r at a time is: c(n, r) = n! / (r!*(n-r)!) = p(n</h3>"
   ]
  },
  {
   "cell_type": "code",
   "execution_count": 63,
   "metadata": {},
   "outputs": [
    {
     "name": "stdout",
     "output_type": "stream",
     "text": [
      "10897286400.0\n"
     ]
    }
   ],
   "source": [
    "def factorial(num):\n",
    "    fact=1\n",
    "    for i in range(1,num+1):\n",
    "        fact=fact*i\n",
    "    return fact\n",
    "\n",
    "def permu_cal(n,r):\n",
    "    numer=factorial(n)\n",
    "    #print(numer)\n",
    "    den=factorial(n-r)\n",
    "    #print(den)\n",
    "    out=numer/den\n",
    "    print(out)\n",
    "\n",
    "permu_cal(15,10)"
   ]
  },
  {
   "cell_type": "markdown",
   "metadata": {},
   "source": [
    "<h3>5. Write a function that converts a decimal number to binary number</h3>"
   ]
  },
  {
   "cell_type": "code",
   "execution_count": 73,
   "metadata": {},
   "outputs": [
    {
     "name": "stdout",
     "output_type": "stream",
     "text": [
      "32 in binary is : [1, 0, 0, 0, 0, 0]\n"
     ]
    }
   ],
   "source": [
    "def dec_to_bi(num):\n",
    "    lst=[]\n",
    "    while num>0:\n",
    "        a=num%2\n",
    "        lst.append(a)\n",
    "        num=int(num/2)\n",
    "   # print(lst)\n",
    "\n",
    "    final_lst=lst[::-1]\n",
    "    return final_lst\n",
    "num=32\n",
    "print(\"{} in binary is : {}\".format(num,dec_to_bi(num)))"
   ]
  },
  {
   "cell_type": "markdown",
   "metadata": {},
   "source": [
    "<h3>6. Write a function cubesum() that accepts an integer and returns the sum of the cubes of\n",
    "individual digits of that number. Use this function to make functions PrintArmstrong() and\n",
    "isArmstrong() to print Armstrong numbers and to find whether is an Armstrong number.</h3>"
   ]
  },
  {
   "cell_type": "code",
   "execution_count": 102,
   "metadata": {},
   "outputs": [
    {
     "name": "stdout",
     "output_type": "stream",
     "text": [
      "407\n"
     ]
    }
   ],
   "source": [
    "#works for 3 digit num only\n",
    "def cubesum(num):\n",
    "    '''Fun to calculate cube of digits of number'''\n",
    "    num=407\n",
    "    #splitting digits\n",
    "    sum_digit=0\n",
    "    while num >0:\n",
    "        digit=num%10\n",
    "        sum_digit=sum_digit+(digit**3)\n",
    "        num=int(num/10)\n",
    "        #print(num)\n",
    "    return sum_digit\n",
    "\n",
    "def isArmstrong(num_to_check):\n",
    "    '''fun to check if a num is Armstrong or not'''\n",
    "    temp=cubesum(num)\n",
    "    if(temp==num_to_check):\n",
    "        return True\n",
    "    return False\n",
    "\n",
    "def PrintArmstrong(x,y):\n",
    "    for i in range(x,y+1):\n",
    "        if isArmstrong(i)==True:\n",
    "            print(i)\n",
    "\n",
    "PrintArmstrong(100,999)"
   ]
  },
  {
   "cell_type": "markdown",
   "metadata": {},
   "source": [
    "<h3>7. Write a function prodDigits() that inputs a number and returns the product of digits of that\n",
    "number</h>"
   ]
  },
  {
   "cell_type": "code",
   "execution_count": 119,
   "metadata": {},
   "outputs": [],
   "source": [
    "def prodDigits(num):\n",
    "    prod=1\n",
    "    while num>0:\n",
    "        digit=num%10\n",
    "        #print(digit)\n",
    "        prod=prod*digit\n",
    "        num=int(num/10)\n",
    "        #print(num)\n",
    "    return prod\n"
   ]
  },
  {
   "cell_type": "code",
   "execution_count": 120,
   "metadata": {},
   "outputs": [
    {
     "name": "stdout",
     "output_type": "stream",
     "text": [
      "20\n"
     ]
    }
   ],
   "source": [
    "print(prodDigits(54))"
   ]
  },
  {
   "cell_type": "markdown",
   "metadata": {},
   "source": [
    "<h3>8. If all digits of a number n are multiplied by each other repeating with the product, the one\n",
    "digit number obtained at last is called the multiplicative digital root of n. The number of\n",
    "times digits need to be multiplied to reach one digit is called the multiplicative\n",
    "persistance of n.\n",
    "Example: 86 -> 48 -> 32 -> 6 (MDR 6, MPersistence 3)\n",
    " 341 -> 12->2 (MDR 2, MPersistence 2)\n",
    "Using the function prodDigits() of previous exercise write functions MDR() and\n",
    "MPersistence() that input a number and return its multiplicative digital root and\n",
    "multiplicative persistence respectively</h3>"
   ]
  },
  {
   "cell_type": "code",
   "execution_count": 161,
   "metadata": {},
   "outputs": [
    {
     "name": "stdout",
     "output_type": "stream",
     "text": [
      "6\n",
      "--------------------------------------------------\n",
      "2\n"
     ]
    }
   ],
   "source": [
    "def MDR(num):\n",
    "    temp=num\n",
    "    while num>0:\n",
    "        temp=prodDigits(temp)\n",
    "        product=temp\n",
    "        num=int(product/10)\n",
    "    return product\n",
    "\n",
    "MDR_86=MDR(86)\n",
    "print(MDR_86)\n",
    "print('-'*50)\n",
    "\n",
    "MDR_341=MDR(341)\n",
    "print(MDR_341)"
   ]
  },
  {
   "cell_type": "code",
   "execution_count": 164,
   "metadata": {},
   "outputs": [
    {
     "name": "stdout",
     "output_type": "stream",
     "text": [
      "3\n",
      "--------------------------------------------------\n",
      "2\n"
     ]
    }
   ],
   "source": [
    "def MPersistence(num):\n",
    "    MP=0\n",
    "    temp=num\n",
    "    while num>0:\n",
    "        temp=prodDigits(temp)\n",
    "        MP+=1\n",
    "        product=temp\n",
    "        num=int(product/10)\n",
    "        \n",
    "    return MP\n",
    "\n",
    "MPersistence_86=MPersistence(86)     \n",
    "print(MPersistence_86)\n",
    "\n",
    "print('-'*50)\n",
    "\n",
    "MPersistence_341=MPersistence(341)     \n",
    "print(MPersistence_341)"
   ]
  },
  {
   "cell_type": "markdown",
   "metadata": {},
   "source": [
    "<h3>9. Write a function sumPdivisors() that finds the sum of proper divisors of a number. Proper\n",
    "divisors of a number are those numbers by which the number is divisible, except the\n",
    "number itself. For example proper divisors of 36 are 1, 2, 3, 4, 6, 9, 18</h3>"
   ]
  },
  {
   "cell_type": "code",
   "execution_count": 181,
   "metadata": {},
   "outputs": [
    {
     "name": "stdout",
     "output_type": "stream",
     "text": [
      "55\n"
     ]
    }
   ],
   "source": [
    "def sumPdivisors(num):\n",
    "    out=0\n",
    "    for i in range(1,num):\n",
    "        if (num%i)==0:\n",
    "            out=out+i\n",
    "    return out\n",
    "\n",
    "a=sumPdivisors(36)\n",
    "print(a)"
   ]
  },
  {
   "cell_type": "markdown",
   "metadata": {},
   "source": [
    "<h3>10. A number is called perfect if the sum of proper divisors of that number is equal to the\n",
    "number. For example 28 is perfect number, since 1+2+4+7+14=28. Write a program to\n",
    "print all the perfect numbers in a given range</h3>"
   ]
  },
  {
   "cell_type": "code",
   "execution_count": 220,
   "metadata": {},
   "outputs": [
    {
     "name": "stdout",
     "output_type": "stream",
     "text": [
      "--- 463.3603026866913 seconds ---\n",
      "[6, 28, 496, 8128]\n"
     ]
    }
   ],
   "source": [
    "def get_perfect_num(lower_lim,upper_lim):\n",
    "    start_time = time.time()\n",
    "    lst=[]\n",
    "    for i in range(lower_lim,upper_lim+1):\n",
    "        if(sumPdivisors(i)==i):\n",
    "            lst.append(i)\n",
    "    print(\"--- %s seconds ---\" % (time.time() - start_time))\n",
    "    return lst\n",
    "\n",
    "#print(get_perfect_num(1,10))--0 sec\n",
    "#print(get_perfect_num(1,100))----- 0.0009996891021728516 seconds ---\n",
    "#print(get_perfect_num(1,1000))------ 0.07594466209411621 seconds ---\n",
    "#print(get_perfect_num(1,10000))--- 4.481428861618042 seconds ---\n",
    "#print(get_perfect_num(1,100000))--- 463.3603026866913 seconds ---"
   ]
  },
  {
   "cell_type": "code",
   "execution_count": 221,
   "metadata": {},
   "outputs": [
    {
     "name": "stdout",
     "output_type": "stream",
     "text": [
      "6\n",
      "28\n",
      "496\n",
      "8128\n",
      "--- 461.2823808193207 seconds ---\n"
     ]
    }
   ],
   "source": [
    "import time\n",
    "\n",
    "def get_perfect_num(lower_lim,upper_lim):\n",
    "    start_time = time.time()\n",
    "    for i in range(lower_lim,upper_lim+1):\n",
    "        if(sumPdivisors(i)==i):\n",
    "            print(i)\n",
    "    print(\"--- %s seconds ---\" % (time.time() - start_time))\n",
    "\n",
    "#get_perfect_num(1,10))--0 sec    \n",
    "#get_perfect_num(1,100)--0sec\n",
    "#get_perfect_num(1,1000)--- 0.04996943473815918 seconds ---\n",
    "#get_perfect_num(1,10000)--- 5.160265207290649 seconds ---\n",
    "#get_perfect_num(1,100000)----- 461.2823808193207 seconds ---"
   ]
  },
  {
   "cell_type": "markdown",
   "metadata": {},
   "source": [
    "<h3>11. Two different numbers are called amicable numbers if the sum of the proper divisors of\n",
    "each is equal to the other number. For example 220 and 284 are amicable numbers</h3>"
   ]
  },
  {
   "cell_type": "code",
   "execution_count": 289,
   "metadata": {},
   "outputs": [
    {
     "name": "stdout",
     "output_type": "stream",
     "text": [
      "True\n",
      "[[220, 284]]\n"
     ]
    }
   ],
   "source": [
    "def sumPdivisors(num):\n",
    "    out=0\n",
    "    for i in range(1,num):\n",
    "        if (num%i)==0:\n",
    "            out=out+i\n",
    "    return out\n",
    "\n",
    "def is_amicable(num1,num2):\n",
    "    a=sumPdivisors(num1)\n",
    "    b=sumPdivisors(num2)\n",
    "    if(a==num2 and b==num1):\n",
    "        return True\n",
    "    else:\n",
    "        return False\n",
    "    \n",
    "def is_amicable_range(lower_lim,upper_lim):\n",
    "    lst=[]\n",
    "    for i in range(lower_lim,upper_lim):\n",
    "        in_lst=[]\n",
    "        for j in range(i+1,upper_lim+1):\n",
    "            if(is_amicable(i,j)==True):\n",
    "                in_lst=[]\n",
    "                in_lst.append(i)\n",
    "                in_lst.append(j)\n",
    "                #print(in_lst)\n",
    "                lst.append(in_lst)\n",
    "    return lst\n",
    "\n",
    "print(is_amicable(220,284))\n",
    "x=is_amicable_range(200,300)\n",
    "print(x)"
   ]
  },
  {
   "cell_type": "markdown",
   "metadata": {},
   "source": [
    "<h3>12. Write a program which can filter odd numbers in a list by using filter function\n",
    "</h3>"
   ]
  },
  {
   "cell_type": "code",
   "execution_count": 307,
   "metadata": {},
   "outputs": [
    {
     "name": "stdout",
     "output_type": "stream",
     "text": [
      "[2, 3, 4, 5, 6, 7, 8, 9, 10, 11, 12, 13, 14, 15, 16, 17, 18, 19]\n",
      "list containing odd numbers :  [3, 5, 7, 9, 11, 13, 15, 17, 19]\n"
     ]
    }
   ],
   "source": [
    "num_list=range(2,20)\n",
    "data=list(num_list)\n",
    "print(data)\n",
    "def odd_num_filter(num):\n",
    "    if (num%2)!=0:\n",
    "        return num\n",
    "    \n",
    "filtered_data=list(filter(odd_num_filter,data))\n",
    "print(\"list containing odd numbers : \",filtered_data)"
   ]
  },
  {
   "cell_type": "markdown",
   "metadata": {},
   "source": [
    "<h3>13. Write a program which can map() to make a list whose elements are cube of elements in\n",
    "a given list</h3>"
   ]
  },
  {
   "cell_type": "code",
   "execution_count": 312,
   "metadata": {},
   "outputs": [
    {
     "name": "stdout",
     "output_type": "stream",
     "text": [
      "[-5, -4, -3, -2, -1, 0, 1, 2, 3, 4]\n",
      "[-125, -64, -27, -8, -1, 0, 1, 8, 27, 64]\n"
     ]
    }
   ],
   "source": [
    "in_lst=range(-5,5)\n",
    "data=list(in_lst)\n",
    "print(data)\n",
    "\n",
    "def cube_of_num(num):\n",
    "    return num**3\n",
    "\n",
    "req_lst=list(map(cube_of_num,data))\n",
    "print(req_lst)"
   ]
  },
  {
   "cell_type": "markdown",
   "metadata": {},
   "source": [
    "<h3>14. Write a program which can map() and filter() to make a list whose elements are cube of\n",
    "even number in a given list </h3>"
   ]
  },
  {
   "cell_type": "code",
   "execution_count": 314,
   "metadata": {},
   "outputs": [],
   "source": [
    "def even_num_cal(num):\n",
    "    if(num%2)==0:\n",
    "        return num\n",
    "    \n",
    "def cube_of_num(num):\n",
    "    return num**3"
   ]
  },
  {
   "cell_type": "code",
   "execution_count": 316,
   "metadata": {},
   "outputs": [
    {
     "name": "stdout",
     "output_type": "stream",
     "text": [
      "[-2, -1, 0, 1, 2, 3, 4, 5, 6, 7, 8, 9, 10, 11]\n"
     ]
    }
   ],
   "source": [
    "in_lst=range(-2,12)\n",
    "data=list(in_lst)\n",
    "print(data)"
   ]
  },
  {
   "cell_type": "code",
   "execution_count": 317,
   "metadata": {},
   "outputs": [
    {
     "name": "stdout",
     "output_type": "stream",
     "text": [
      "[-2, 2, 4, 6, 8, 10]\n"
     ]
    }
   ],
   "source": [
    "even_num_list=list(filter(even_num_cal,data))\n",
    "print(even_num_list)"
   ]
  },
  {
   "cell_type": "code",
   "execution_count": 318,
   "metadata": {},
   "outputs": [
    {
     "name": "stdout",
     "output_type": "stream",
     "text": [
      "[-8, 8, 64, 216, 512, 1000]\n"
     ]
    }
   ],
   "source": [
    "cubed_ele=list(map(cube_of_num,even_num_list))\n",
    "print(cubed_ele)"
   ]
  }
 ],
 "metadata": {
  "kernelspec": {
   "display_name": "Python 3",
   "language": "python",
   "name": "python3"
  },
  "language_info": {
   "codemirror_mode": {
    "name": "ipython",
    "version": 3
   },
   "file_extension": ".py",
   "mimetype": "text/x-python",
   "name": "python",
   "nbconvert_exporter": "python",
   "pygments_lexer": "ipython3",
   "version": "3.6.5"
  }
 },
 "nbformat": 4,
 "nbformat_minor": 2
}
